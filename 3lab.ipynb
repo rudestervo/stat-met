{
 "cells": [
  {
   "cell_type": "code",
   "execution_count": 1,
   "metadata": {},
   "outputs": [],
   "source": [
    "import numpy as np"
   ]
  },
  {
   "cell_type": "code",
   "execution_count": 2,
   "metadata": {},
   "outputs": [],
   "source": [
    "def estimate_parameters(sequence, means, probabilities):\n",
    "    # Оцінка параметрів\n",
    "    while True:\n",
    "        # Оцінка ймовірностей станів\n",
    "        state_indices = np.array([sequence < 1.5, sequence >= 1.5])\n",
    "        estimated_probabilities = np.mean(state_indices, axis=1)\n",
    "\n",
    "        # Оцінка середніх значень для кожного стану\n",
    "        estimated_means = np.array([np.mean(sequence[state_indices[i]]) for i in range(2)])\n",
    "\n",
    "        # Перевірка збіжності: якщо оцінки means, probabilities відрізняються менше ніж на 0.001, то зупиняємо алгоритм\n",
    "        if np.allclose(np.concatenate((means, probabilities)), \n",
    "                       np.concatenate((estimated_means, estimated_probabilities)), \n",
    "                       atol=0.001):\n",
    "            break\n",
    "\n",
    "        # Оновлення параметрів\n",
    "        means, probabilities = estimated_means, estimated_probabilities\n",
    "\n",
    "    return means, probabilities"
   ]
  },
  {
   "cell_type": "code",
   "execution_count": 3,
   "metadata": {},
   "outputs": [],
   "source": [
    "def generate_sequence(sample_count=100):\n",
    "    # Ініціалізація параметрів\n",
    "    means = np.array([1, 2])  # Початкові оцінки для середніх значень\n",
    "    probabilities = np.array([0.5, 0.5])  # Початкові оцінки для ймовірностей станів\n",
    "    variance = 1  # Дисперсія\n",
    "\n",
    "    # Генерація послідовності\n",
    "    sequence = np.random.normal(np.where(np.random.rand(sample_count) < 1/3, 0, 3), np.sqrt(variance), sample_count)\n",
    "\n",
    "    # Оцінка параметрів\n",
    "    means, probabilities = estimate_parameters(sequence, means, probabilities)\n",
    "\n",
    "    # Повернення результатів: послідовність випадкових величин та оцінки параметрів\n",
    "    return sequence, means, probabilities\n"
   ]
  },
  {
   "cell_type": "code",
   "execution_count": 4,
   "metadata": {},
   "outputs": [
    {
     "data": {
      "text/plain": [
       "(array([-0.00993474,  3.24025889]), array([0.38, 0.62]))"
      ]
     },
     "execution_count": 4,
     "metadata": {},
     "output_type": "execute_result"
    }
   ],
   "source": [
    "generated_sequence, final_means, final_probabilities = generate_sequence(100)\n",
    "final_means, final_probabilities"
   ]
  }
 ],
 "metadata": {
  "kernelspec": {
   "display_name": "Python 3",
   "language": "python",
   "name": "python3"
  },
  "language_info": {
   "codemirror_mode": {
    "name": "ipython",
    "version": 3
   },
   "file_extension": ".py",
   "mimetype": "text/x-python",
   "name": "python",
   "nbconvert_exporter": "python",
   "pygments_lexer": "ipython3",
   "version": "3.9.13"
  }
 },
 "nbformat": 4,
 "nbformat_minor": 2
}
