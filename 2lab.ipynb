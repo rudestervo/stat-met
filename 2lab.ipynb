{
 "cells": [
  {
   "cell_type": "code",
   "execution_count": 3,
   "metadata": {},
   "outputs": [],
   "source": [
    "import numpy as np\n",
    "from scipy.spatial import ConvexHull"
   ]
  },
  {
   "cell_type": "code",
   "execution_count": 4,
   "metadata": {},
   "outputs": [],
   "source": [
    "# Функція для створення випадкових векторів\n",
    "def create_rand_vecs(vec_qty):\n",
    "    # Створюємо всі координати одночасно\n",
    "    # Використовуємо експоненційний розподіл для перших двох координат\n",
    "    # та нормальний розподіл для третьої координати\n",
    "    vecs = np.random.exponential(scale=1, size=(vec_qty, 3))\n",
    "    vecs[:, -1] = np.random.normal(size=vec_qty)\n",
    "    return vecs\n"
   ]
  },
  {
   "cell_type": "code",
   "execution_count": 12,
   "metadata": {},
   "outputs": [],
   "source": [
    "# Функція для реалізації алгоритму Козінця\n",
    "def run_kozinec_algo(input_data):\n",
    "    # Визначаємо опуклу оболонку для набору точок\n",
    "    # Використовуємо алгоритм QuickHull\n",
    "    hull = ConvexHull(input_data)\n",
    "    # Вибираємо вершини з набору точок\n",
    "    # Вершини - це точки, що формують опуклу оболонку\n",
    "    pts = input_data[hull.vertices]\n",
    "    # Ініціалізуємо вектор w нулями\n",
    "    # w - це ваговий вектор, який ми будемо оновлювати\n",
    "    w_vec = np.zeros(pts.shape[1])\n",
    "    # Оновлюємо вектор w для кожної точки\n",
    "    # Якщо скалярний добуток w і точки менше або дорівнює 1,\n",
    "    # то оновлюємо w, додаючи до нього відстань від точки до гіперплощини,\n",
    "    # нормалізовану на квадрат норми точки\n",
    "    for pt in pts:\n",
    "        prod = np.dot(w_vec, pt)\n",
    "        if prod <= 1:\n",
    "            w_vec += (1 - prod) * pt / np.linalg.norm(pt)**2\n",
    "    return w_vec"
   ]
  },
  {
   "cell_type": "code",
   "execution_count": 13,
   "metadata": {},
   "outputs": [
    {
     "name": "stdout",
     "output_type": "stream",
     "text": [
      "Розділяючий вектор: [ 1.99348699  1.95553218 -0.47980675]\n"
     ]
    }
   ],
   "source": [
    "# Встановлюємо кількість векторів\n",
    "# Це кількість випадкових векторів, які ми згенеруємо\n",
    "vec_qty = 50\n",
    "\n",
    "# Створюємо вектори\n",
    "# Використовуємо функцію create_rand_vecs для генерації випадкових векторів\n",
    "vecs = create_rand_vecs(vec_qty)\n",
    "\n",
    "# Визначаємо розділяючий вектор\n",
    "# Використовуємо алгоритм Козінця для знаходження розділяючого вектора\n",
    "sep_vec = run_kozinec_algo(vecs)\n",
    "# Якщо розділяючий вектор існує, виводимо його\n",
    "# Інакше повідомляємо, що розділення неможливе\n",
    "if sep_vec is not None:\n",
    "    print(\"Розділяючий вектор:\", sep_vec)\n",
    "else:\n",
    "    print(\"Розділення неможливе.\")"
   ]
  }
 ],
 "metadata": {
  "kernelspec": {
   "display_name": "Python 3",
   "language": "python",
   "name": "python3"
  },
  "language_info": {
   "codemirror_mode": {
    "name": "ipython",
    "version": 3
   },
   "file_extension": ".py",
   "mimetype": "text/x-python",
   "name": "python",
   "nbconvert_exporter": "python",
   "pygments_lexer": "ipython3",
   "version": "3.9.13"
  }
 },
 "nbformat": 4,
 "nbformat_minor": 2
}
