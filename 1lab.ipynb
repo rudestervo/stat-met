{
 "cells": [
  {
   "cell_type": "code",
   "execution_count": 107,
   "metadata": {},
   "outputs": [
    {
     "name": "stdout",
     "output_type": "stream",
     "text": [
      "Початкова послідовність: [1, 1, 0, 1, 0, 0, 0, 0, 0, 0]\n"
     ]
    }
   ],
   "source": [
    "import random\n",
    "from scipy.stats import binom\n",
    "\n",
    "n = 10 # довжина послідовності\n",
    "\n",
    "# функція створення послідовності і заповнення її числами\n",
    "def generate_sequence(length):\n",
    "    return [random.choice([0, 1]) for _ in range(length)]\n",
    "\n",
    "sequence = generate_sequence(n)\n",
    "print(\"Початкова послідовність:\", sequence)"
   ]
  },
  {
   "cell_type": "code",
   "execution_count": 108,
   "metadata": {},
   "outputs": [
    {
     "name": "stdout",
     "output_type": "stream",
     "text": [
      "Перетворена послідовність: [1, 1, 1, 0, 0, 1, 1, 1, 0, 1]\n"
     ]
    }
   ],
   "source": [
    "# функція перетворення послідовності\n",
    "def transform_sequence(sequence):\n",
    "    return [1 - i if random.random() < 0.5 else i for i in sequence]\n",
    "\n",
    "transformed = transform_sequence(sequence)\n",
    "print(\"Перетворена послідовність:\", transformed)"
   ]
  },
  {
   "cell_type": "code",
   "execution_count": 109,
   "metadata": {},
   "outputs": [
    {
     "name": "stdout",
     "output_type": "stream",
     "text": [
      "Реальна сума оригінальної послідовності 3\n",
      "Вгадана сума оригінальної послідовності 3\n"
     ]
    }
   ],
   "source": [
    "def original_sequence_sum(transformed):\n",
    "    n = len(transformed)\n",
    "    max_pen = n**2\n",
    "    opt_q = 0\n",
    "    for q in range(n):\n",
    "        # Використовуємо біноміальний розподіл для обчислення ймовірності кожної суми\n",
    "        prob = binom.pmf(q, n, 0.5)\n",
    "        pen = ((q - sum(sequence))**2) * prob\n",
    "\n",
    "        if pen < max_pen:\n",
    "            max_pen = pen\n",
    "            opt_q = q\n",
    "\n",
    "    return opt_q\n",
    "\n",
    "print(\"Реальна сума оригінальної послідовності\", sum(sequence))\n",
    "print(\"Вгадана сума оригінальної послідовності\", original_sequence_sum(transformed))"
   ]
  }
 ],
 "metadata": {
  "kernelspec": {
   "display_name": "Python 3",
   "language": "python",
   "name": "python3"
  },
  "language_info": {
   "codemirror_mode": {
    "name": "ipython",
    "version": 3
   },
   "file_extension": ".py",
   "mimetype": "text/x-python",
   "name": "python",
   "nbconvert_exporter": "python",
   "pygments_lexer": "ipython3",
   "version": "3.9.13"
  }
 },
 "nbformat": 4,
 "nbformat_minor": 2
}
